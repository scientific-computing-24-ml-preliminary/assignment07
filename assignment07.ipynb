{
 "cells": [
  {
   "cell_type": "markdown",
   "metadata": {},
   "source": [
    "## Scientific Computing\n",
    "### Assignment 7: statistical estimates\n",
    "\n",
    "[Software, Data and\n",
    "Technology](https://lp.jetbrains.com/software-data-and-technology-constructor-university/) bachelor program at [Constructor\n",
    "University](https://constructor.university) (Bremen)."
   ]
  },
  {
   "cell_type": "markdown",
   "metadata": {
    "vscode": {
     "languageId": "plaintext"
    }
   },
   "source": [
    "### Task 1 (2 + 1 points)\n",
    "Let $X$ be uniformly distributed random variable on a segment $[a, b]$ with unknown parameters $a$ and $b$, $b>a$. Let $x_1, \\ldots, x_n$ be an i.i.d. sample from $X$.\n",
    "\n",
    "1. Find any consistent estimator for $a$.\n",
    "2. Is it unbiased?"
   ]
  },
  {
   "cell_type": "markdown",
   "metadata": {},
   "source": [
    "*Your solution here*"
   ]
  },
  {
   "cell_type": "markdown",
   "metadata": {
    "vscode": {
     "languageId": "plaintext"
    }
   },
   "source": [
    "### Task 2 (3 + 3 + 2 points)\n",
    "Masha, Luna, and Emma are studying a sample $x_1, \\ldots, x_n$ from a normal distribution with unknown mean $\\mu$ and variance $1$. They want to estimate $\\mu$ from this sample. Masha uses the sample mean $\\mathrm{\\mathop{Ave}}$ (which is simply the arithmetic mean) as an estimate, Luna uses the [sample median](https://en.wikipedia.org/wiki/Median), and Emma uses the $\\mathrm{\\mathop{midrange}}$ function:\n",
    "$$\\mathrm{\\mathop{midrange}}(x_1, \\ldots, x_n)=\\frac{1}{2}(\\max(x_1, \\ldots, x_n)+\\min(x_1, \\ldots, x_n)).$$\n",
    "\n",
    "1. Are these estimates unbiased? Answer using a numerical experiment: fix some $\\mu$ (for example, $\\mu=0$) and $n$ (for example, $n=10$), generate many (for example, 10,000) samples (this can be done using the `np.random.normal` function, passing `(number_of_samples, n)` as `size` — you'll get a matrix of the specified size filled with random numbers from the given distribution), find the value of the corresponding function for each and average them. Do you get a number close to $\\mu$? Does it get closer as the number of samples increases (with fixed $n$)?\n",
    "\n",
    "2. If there are several unbiased estimators for the same value, it is natural to prefer the one with the smallest variance. Indeed, smaller variance means smaller deviation from the mean, i.e., from the true value of the parameter. Estimate the variance of each estimators discussed above for different $n$. Fix the number of samples (say, 1000) and in a loop over `n` from 2 to 100, do the following. Generate 1000 samples of length $n$, find the value of the corresponding estimate for each sample (similar to the previous point) and calculate the sample variance for the obtained estimates. Plot a graph showing the dependence of the variance of each estimate on $n$. Which estimate has the lowest variance? Which has the highest? Which of these estimates would you prefer?\n",
    "\n",
    "3. Perform point 2 for a uniform distribution on the interval $[-1, 1]$. Which estimate now has the lowest variance? Which has the highest? How can you explain the difference from the previous point? Which of these estimates would you use?"
   ]
  },
  {
   "cell_type": "code",
   "execution_count": null,
   "metadata": {},
   "outputs": [],
   "source": [
    "# Your solution here"
   ]
  },
  {
   "cell_type": "markdown",
   "metadata": {
    "vscode": {
     "languageId": "plaintext"
    }
   },
   "source": [
    "### Task 3 (2 + 4 points)\n",
    "Let a sample $x_1, \\ldots, x_n$ be given, where all $x_i \\in \\mathbb R$ are distributed as a random variable $X$ and are jointly independent. $\\mathbb E[X]<\\infty$, $\\mathop{\\mathrm{Var}}[X]<\\infty$. For a fixed vector $w\\in \\mathbb R^n$, consider the function\n",
    "$$\\varphi_w(x)=\\langle w, x \\rangle,$$\n",
    "where $\\langle w, x \\rangle$ is the standard scalar product (scalar product written in an orthonormal basis).\n",
    "\n",
    "1. Under what condition on $w$ will this function be an unbiased estimator for $\\mathbb E[X]$?\n",
    "2. Among all $w$ for which $\\varphi_w(x)$ is an unbiased estimator for $\\mathbb E[X]$, find the one for which the variance of $\\varphi_w(x)$ will be the smallest. (Hint: you will need Lagrange multipliers.)"
   ]
  },
  {
   "cell_type": "markdown",
   "metadata": {},
   "source": [
    "*Your solution here*"
   ]
  },
  {
   "cell_type": "markdown",
   "metadata": {
    "vscode": {
     "languageId": "plaintext"
    }
   },
   "source": [
    "### Task 4 (2 + 3 + 4 + 5 points)\n",
    "\n",
    "Let the numbers $y_1, \\ldots, y_n$ be obtained as a sample from a normal distribution $\\mathcal N(\\mu, \\sigma^2)$ with unknown parameters $\\mu$ (expected value) and $\\sigma^2$ (variance). We want to find the maximum likelihood estimate for $\\mu$ and $\\sigma^2$, that is, such values of these parameters for which the likelihood function\n",
    "\n",
    "$$p(y_1, \\ldots, y_n \\mid \\mu, \\sigma^2)$$\n",
    "\n",
    "will be maximal. In the lectures, case of $\\sigma^2=1$ was considered.\n",
    "\n",
    "1. Find the likelihood function for arbitrary $\\sigma^2$.\n",
    "2. Find an MLE estimate for $\\mu$. Show that it doesn't depend on $\\sigma^2$.\n",
    "3. Find an MLE estimate for $\\sigma^2$.\n",
    "4. (Bonus) Is the obtained estimate for $\\sigma^2$ unbiased? Prove it."
   ]
  },
  {
   "cell_type": "markdown",
   "metadata": {},
   "source": [
    "*Your solution here*"
   ]
  }
 ],
 "metadata": {
  "kernelspec": {
   "display_name": "scientific-computing-2024-lesson01",
   "language": "python",
   "name": "python3"
  },
  "language_info": {
   "codemirror_mode": {
    "name": "ipython",
    "version": 3
   },
   "file_extension": ".py",
   "mimetype": "text/x-python",
   "name": "python",
   "nbconvert_exporter": "python",
   "pygments_lexer": "ipython3",
   "version": "3.11.9"
  }
 },
 "nbformat": 4,
 "nbformat_minor": 2
}
